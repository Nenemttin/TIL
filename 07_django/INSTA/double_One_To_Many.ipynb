{
 "cells": [
  {
   "cell_type": "markdown",
   "metadata": {},
   "source": [
    "# One To Many model - 2\n",
    "\n",
    "## Writer\n",
    "\n",
    "| id (PK) | name       |\n",
    "| ------- | ---------- |\n",
    "| INT     | CharField, |\n",
    "\n",
    "\n",
    "\n",
    "## Book\n",
    "\n",
    "| id (PK) | author (FK) | title     | description |\n",
    "| ------- | ----------- | --------- | ----------- |\n",
    "| INT     | Writer, INT | CharField | TextField   |\n",
    "\n",
    "\n",
    "\n",
    "## Chapter\n",
    "\n",
    "| id (PK) | book_id (FK) | title     | description |\n",
    "| ------- | ------------ | --------- | ----------- |\n",
    "| INT     | Book, INT    | CharField | TextField   |"
   ]
  },
  {
   "cell_type": "code",
   "execution_count": 2,
   "metadata": {},
   "outputs": [
    {
     "ename": "NameError",
     "evalue": "name 'Writer' is not defined",
     "output_type": "error",
     "traceback": [
      "\u001b[1;31m---------------------------------------------------------------------------\u001b[0m",
      "\u001b[1;31mNameError\u001b[0m                                 Traceback (most recent call last)",
      "\u001b[1;32m<ipython-input-2-8b3d7cf96d44>\u001b[0m in \u001b[0;36m<module>\u001b[1;34m\u001b[0m\n\u001b[0;32m      1\u001b[0m \u001b[1;31m# Writer 객체 생성\u001b[0m\u001b[1;33m\u001b[0m\u001b[1;33m\u001b[0m\u001b[1;33m\u001b[0m\u001b[0m\n\u001b[1;32m----> 2\u001b[1;33m \u001b[0mWriter\u001b[0m\u001b[1;33m.\u001b[0m\u001b[0mobjects\u001b[0m\u001b[1;33m.\u001b[0m\u001b[0mcreate\u001b[0m\u001b[1;33m(\u001b[0m\u001b[0mname\u001b[0m\u001b[1;33m=\u001b[0m\u001b[1;34m'Ethan Brown'\u001b[0m\u001b[1;33m)\u001b[0m\u001b[1;33m\u001b[0m\u001b[1;33m\u001b[0m\u001b[0m\n\u001b[0m",
      "\u001b[1;31mNameError\u001b[0m: name 'Writer' is not defined"
     ]
    }
   ],
   "source": [
    "# Writer 객체 생성\n",
    "Writer.objects.create(name='Ethan Brown')"
   ]
  },
  {
   "cell_type": "code",
   "execution_count": 3,
   "metadata": {},
   "outputs": [
    {
     "data": {
      "text/plain": [
       "<Book: Book object (3)>"
      ]
     },
     "execution_count": 3,
     "metadata": {},
     "output_type": "execute_result"
    }
   ],
   "source": [
    "# Book 객체 생성\n",
    "Book.objects.create(author=Writer.objects.get(name='Ethan Brown'), title='Learning JavaScript', description='ES6로 제대로 입문하는 모던 자바스크립트 웹 개발')"
   ]
  },
  {
   "cell_type": "code",
   "execution_count": 4,
   "metadata": {},
   "outputs": [
    {
     "data": {
      "text/plain": [
       "<Book: Book object (4)>"
      ]
     },
     "execution_count": 4,
     "metadata": {},
     "output_type": "execute_result"
    }
   ],
   "source": [
    "Book.objects.create(author=Writer.objects.get(name='Ethan Brown'), title='Learning Python', description='Python37 로 제대로 입문하는 Python 개발')"
   ]
  },
  {
   "cell_type": "code",
   "execution_count": 6,
   "metadata": {},
   "outputs": [
    {
     "data": {
      "text/plain": [
       "<Chapter: Chapter object (4)>"
      ]
     },
     "execution_count": 6,
     "metadata": {},
     "output_type": "execute_result"
    }
   ],
   "source": [
    "# Chapter 객체 생성\n",
    "Chapter.objects.create(\n",
    "    book = Book.objects.get(id=3),\n",
    "    title = 'First App',\n",
    "    description = '시작은 브라우저에서'\n",
    ")\n",
    "\n",
    "Chapter.objects.create(\n",
    "    book = Book.objects.get(id=3),\n",
    "    title = '개발 도구',\n",
    "    description = '트랜스컴파일러'\n",
    ")\n",
    "\n",
    "Chapter.objects.create(\n",
    "    book = Book.objects.get(id=4),\n",
    "    title = 'Python 기초 문법',\n",
    "    description = '변수, 문자열, 숫자, 참/거짓'\n",
    ")\n",
    "\n",
    "Chapter.objects.create(\n",
    "    book = Book.objects.get(id=4),\n",
    "    title = 'Python 자료 구조',\n",
    "    description = '리스트, 딕셔너리, 튜플, 세트'\n",
    ")"
   ]
  },
  {
   "cell_type": "code",
   "execution_count": 21,
   "metadata": {},
   "outputs": [],
   "source": [
    "# Python 배우고 싶다. 딕셔너리를 찾아볼까?\n",
    "chapter_A = Chapter.objects.filter(description__contains='딕셔너리')\n",
    "book_A = chapter_A[0].book\n",
    "# 딕셔너리라는 챕터 설명이 있는 책의 저자가 쓴 모든 책\n",
    "author_A = book_A.author\n",
    "author_A_books = author_A.book_set.all()"
   ]
  },
  {
   "cell_type": "code",
   "execution_count": 22,
   "metadata": {},
   "outputs": [
    {
     "name": "stdout",
     "output_type": "stream",
     "text": [
      "Learning JavaScript\n",
      "Learning Python\n"
     ]
    }
   ],
   "source": [
    "for book in author_A_books:\n",
    "    print(book.title)"
   ]
  },
  {
   "cell_type": "code",
   "execution_count": 26,
   "metadata": {},
   "outputs": [
    {
     "data": {
      "text/plain": [
       "<QuerySet [<Book: Book object (2)>, <Book: Book object (3)>, <Book: Book object (4)>]>"
      ]
     },
     "execution_count": 26,
     "metadata": {},
     "output_type": "execute_result"
    }
   ],
   "source": [
    "Book.objects.filter(created__year=2019)[2:5]"
   ]
  },
  {
   "cell_type": "code",
   "execution_count": 29,
   "metadata": {},
   "outputs": [
    {
     "name": "stdout",
     "output_type": "stream",
     "text": [
      "SELECT \"onetomany_book\".\"id\", \"onetomany_book\".\"created\", \"onetomany_book\".\"modified\", \"onetomany_book\".\"author_id\", \"onetomany_book\".\"title\", \"onetomany_book\".\"description\" FROM \"onetomany_book\" WHERE \"onetomany_book\".\"created\" > 2018-12-31 23:59:59.999999  LIMIT 3 OFFSET 2\n"
     ]
    }
   ],
   "source": [
    "print(Book.objects.filter(created__year__gt=2018)[2:5].query)"
   ]
  },
  {
   "cell_type": "markdown",
   "metadata": {},
   "source": []
  },
  {
   "cell_type": "code",
   "execution_count": 1,
   "metadata": {},
   "outputs": [
    {
     "ename": "NameError",
     "evalue": "name 'Book' is not defined",
     "output_type": "error",
     "traceback": [
      "\u001b[1;31m---------------------------------------------------------------------------\u001b[0m",
      "\u001b[1;31mNameError\u001b[0m                                 Traceback (most recent call last)",
      "\u001b[1;32m<ipython-input-1-5e035eecf6fa>\u001b[0m in \u001b[0;36m<module>\u001b[1;34m\u001b[0m\n\u001b[1;32m----> 1\u001b[1;33m \u001b[0mBook\u001b[0m\u001b[1;33m.\u001b[0m\u001b[0mobjects\u001b[0m\u001b[1;33m.\u001b[0m\u001b[0mvalues\u001b[0m\u001b[1;33m(\u001b[0m\u001b[1;34m'title'\u001b[0m\u001b[1;33m)\u001b[0m\u001b[1;33m\u001b[0m\u001b[1;33m\u001b[0m\u001b[0m\n\u001b[0m",
      "\u001b[1;31mNameError\u001b[0m: name 'Book' is not defined"
     ]
    }
   ],
   "source": [
    "Book.objects.values('title')"
   ]
  }
 ],
 "metadata": {
  "kernelspec": {
   "display_name": "Django Shell-Plus",
   "language": "python",
   "name": "django_extensions"
  },
  "language_info": {
   "codemirror_mode": {
    "name": "ipython",
    "version": 3
   },
   "file_extension": ".py",
   "mimetype": "text/x-python",
   "name": "python",
   "nbconvert_exporter": "python",
   "pygments_lexer": "ipython3",
   "version": "3.7.3"
  }
 },
 "nbformat": 4,
 "nbformat_minor": 2
}
