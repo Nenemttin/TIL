{
 "cells": [
  {
   "cell_type": "markdown",
   "metadata": {},
   "source": [
    "# Many To Many Relation\n",
    "\n",
    "## Student\n",
    "\n",
    "| id(PK) | name      |\n",
    "| ------ | --------- |\n",
    "| INT    | CharField |\n",
    "\n",
    "\n",
    "\n",
    "## Enrolment\n",
    "\n",
    "| id(PK) | student_id(FK) - Student | lecture_id(FK) - Lecture |\n",
    "| ------ | ------------------------ | ------------------------ |\n",
    "| INT    | INT                      | INT                      |\n",
    "\n",
    "\n",
    "\n",
    "## Lecture\n",
    "\n",
    "| id(PK) | title     |\n",
    "| ------ | --------- |\n",
    "| INT    | CharField |\n",
    "\n"
   ]
  },
  {
   "cell_type": "code",
   "execution_count": 23,
   "metadata": {},
   "outputs": [
    {
     "data": {
      "text/plain": [
       "<QuerySet [<Student: Student object (15)>, <Student: Student object (16)>, <Student: Student object (17)>, <Student: Student object (18)>]>"
      ]
     },
     "execution_count": 23,
     "metadata": {},
     "output_type": "execute_result"
    }
   ],
   "source": [
    "Student.objects.all()"
   ]
  },
  {
   "cell_type": "code",
   "execution_count": 19,
   "metadata": {},
   "outputs": [
    {
     "data": {
      "text/plain": [
       "<Student: Student object (18)>"
      ]
     },
     "execution_count": 19,
     "metadata": {},
     "output_type": "execute_result"
    }
   ],
   "source": [
    "# Student.objects.create(name='박병준')\n",
    "# Student.objects.create(name='황은석')\n",
    "# Student.objects.create(name='고재두')\n",
    "# Student.objects.create(name='이종화')"
   ]
  },
  {
   "cell_type": "code",
   "execution_count": 20,
   "metadata": {},
   "outputs": [
    {
     "data": {
      "text/plain": [
       "<Lecture: Lecture object (2)>"
      ]
     },
     "execution_count": 20,
     "metadata": {},
     "output_type": "execute_result"
    }
   ],
   "source": [
    "# Lecture.objects.create(title='알고리즘')\n",
    "# Lecture.objects.create(title='Django')"
   ]
  },
  {
   "cell_type": "code",
   "execution_count": 24,
   "metadata": {},
   "outputs": [
    {
     "data": {
      "text/plain": [
       "<QuerySet [<Lecture: Lecture object (1)>, <Lecture: Lecture object (2)>]>"
      ]
     },
     "execution_count": 24,
     "metadata": {},
     "output_type": "execute_result"
    }
   ],
   "source": [
    "Lecture.objects.all()"
   ]
  },
  {
   "cell_type": "code",
   "execution_count": 26,
   "metadata": {},
   "outputs": [
    {
     "data": {
      "text/plain": [
       "<Enrolment: Enrolment object (1)>"
      ]
     },
     "execution_count": 26,
     "metadata": {},
     "output_type": "execute_result"
    }
   ],
   "source": [
    "# Enrolment.objects.create(student=Student.objects.get(id=15), lecture=Lecture.objects.get(id=1))"
   ]
  },
  {
   "cell_type": "code",
   "execution_count": 27,
   "metadata": {},
   "outputs": [
    {
     "data": {
      "text/plain": [
       "<Enrolment: Enrolment object (2)>"
      ]
     },
     "execution_count": 27,
     "metadata": {},
     "output_type": "execute_result"
    }
   ],
   "source": [
    "# Enrolment.objects.create(student=Student.objects.get(id=16), lecture=Lecture.objects.get(id=1))"
   ]
  },
  {
   "cell_type": "code",
   "execution_count": 28,
   "metadata": {},
   "outputs": [
    {
     "data": {
      "text/plain": [
       "<Enrolment: Enrolment object (3)>"
      ]
     },
     "execution_count": 28,
     "metadata": {},
     "output_type": "execute_result"
    }
   ],
   "source": [
    "# Enrolment.objects.create(student=Student.objects.get(id=17), lecture=Lecture.objects.get(id=1))"
   ]
  },
  {
   "cell_type": "code",
   "execution_count": 29,
   "metadata": {},
   "outputs": [
    {
     "data": {
      "text/plain": [
       "<Enrolment: Enrolment object (4)>"
      ]
     },
     "execution_count": 29,
     "metadata": {},
     "output_type": "execute_result"
    }
   ],
   "source": [
    "# Enrolment.objects.create(student=Student.objects.get(id=18), lecture=Lecture.objects.get(id=1))"
   ]
  },
  {
   "cell_type": "code",
   "execution_count": 30,
   "metadata": {},
   "outputs": [
    {
     "data": {
      "text/plain": [
       "<Enrolment: Enrolment object (5)>"
      ]
     },
     "execution_count": 30,
     "metadata": {},
     "output_type": "execute_result"
    }
   ],
   "source": [
    "# Enrolment.objects.create(student=Student.objects.get(id=15), lecture=Lecture.objects.get(id=2))"
   ]
  },
  {
   "cell_type": "code",
   "execution_count": 31,
   "metadata": {},
   "outputs": [
    {
     "data": {
      "text/plain": [
       "<Enrolment: Enrolment object (6)>"
      ]
     },
     "execution_count": 31,
     "metadata": {},
     "output_type": "execute_result"
    }
   ],
   "source": [
    "# Enrolment.objects.create(student=Student.objects.get(id=16), lecture=Lecture.objects.get(id=2))"
   ]
  },
  {
   "cell_type": "code",
   "execution_count": 32,
   "metadata": {},
   "outputs": [
    {
     "data": {
      "text/plain": [
       "<Enrolment: Enrolment object (7)>"
      ]
     },
     "execution_count": 32,
     "metadata": {},
     "output_type": "execute_result"
    }
   ],
   "source": [
    "# Enrolment.objects.create(student=Student.objects.get(id=17), lecture=Lecture.objects.get(id=2))"
   ]
  },
  {
   "cell_type": "code",
   "execution_count": 33,
   "metadata": {},
   "outputs": [
    {
     "data": {
      "text/plain": [
       "<Enrolment: Enrolment object (8)>"
      ]
     },
     "execution_count": 33,
     "metadata": {},
     "output_type": "execute_result"
    }
   ],
   "source": [
    "# Enrolment.objects.create(student=Student.objects.get(id=18), lecture=Lecture.objects.get(id=2))"
   ]
  },
  {
   "cell_type": "code",
   "execution_count": 44,
   "metadata": {},
   "outputs": [
    {
     "data": {
      "text/plain": [
       "'Django'"
      ]
     },
     "execution_count": 44,
     "metadata": {},
     "output_type": "execute_result"
    }
   ],
   "source": [
    "박병준  = Student.objects.get(name='박병준')\n",
    "수강신청1 = 박병준.enrolment_set.first()\n",
    "수강신청2 = 박병준.enrolment_set.last()\n",
    "\n",
    "수강신청1.lecture.title\n",
    "수강신청2.lecture.title"
   ]
  },
  {
   "cell_type": "code",
   "execution_count": 46,
   "metadata": {},
   "outputs": [
    {
     "name": "stdout",
     "output_type": "stream",
     "text": [
      "알고리즘\n",
      "Django\n"
     ]
    }
   ],
   "source": [
    "student = Student.objects.get(name='황은석')\n",
    "\n",
    "for enrolment in student.enrolment_set.all():\n",
    "    print(enrolment.lecture.title)"
   ]
  },
  {
   "cell_type": "code",
   "execution_count": 47,
   "metadata": {},
   "outputs": [
    {
     "name": "stdout",
     "output_type": "stream",
     "text": [
      "Django\n"
     ]
    }
   ],
   "source": [
    "for enrolment in student.enrolment_set.all():\n",
    "    if len(enrolment.lecture.title) > 4:\n",
    "        print(enrolment.lecture.title)"
   ]
  },
  {
   "cell_type": "code",
   "execution_count": 53,
   "metadata": {},
   "outputs": [
    {
     "data": {
      "text/plain": [
       "<QuerySet [<Enrolment: Enrolment object (1)>, <Enrolment: Enrolment object (2)>, <Enrolment: Enrolment object (3)>, <Enrolment: Enrolment object (4)>]>"
      ]
     },
     "execution_count": 53,
     "metadata": {},
     "output_type": "execute_result"
    }
   ],
   "source": [
    "lecture = Lecture.objects.get(id=1)\n",
    "lecture.enrolment_set.all()"
   ]
  },
  {
   "cell_type": "code",
   "execution_count": 56,
   "metadata": {},
   "outputs": [],
   "source": [
    "Hotel.dummy(10)"
   ]
  },
  {
   "cell_type": "code",
   "execution_count": null,
   "metadata": {},
   "outputs": [],
   "source": [
    "Client.dummy(10)"
   ]
  },
  {
   "cell_type": "code",
   "execution_count": 66,
   "metadata": {},
   "outputs": [],
   "source": [
    "new_hotel = Hotel.objects.last()\n",
    "# new_hotel.clients.add(Client.objects.last())"
   ]
  },
  {
   "cell_type": "code",
   "execution_count": 67,
   "metadata": {},
   "outputs": [
    {
     "data": {
      "text/plain": [
       "<QuerySet [<Client: Client object (6)>]>"
      ]
     },
     "execution_count": 67,
     "metadata": {},
     "output_type": "execute_result"
    }
   ],
   "source": [
    "new_hotel.clients.all()"
   ]
  },
  {
   "cell_type": "code",
   "execution_count": 68,
   "metadata": {},
   "outputs": [],
   "source": [
    "new_hotel.clients.add(Client.objects.get(id=3), Client.objects.get(id=5), Client.objects.get(id=7))"
   ]
  },
  {
   "cell_type": "code",
   "execution_count": 70,
   "metadata": {},
   "outputs": [
    {
     "data": {
      "text/plain": [
       "<QuerySet [<Client: Client object (3)>, <Client: Client object (7)>]>"
      ]
     },
     "execution_count": 70,
     "metadata": {},
     "output_type": "execute_result"
    }
   ],
   "source": [
    "new_hotel.clients.all().filter(name__contains='h')"
   ]
  },
  {
   "cell_type": "code",
   "execution_count": 4,
   "metadata": {},
   "outputs": [],
   "source": [
    "client = Client.objects.get(id=3)\n"
   ]
  },
  {
   "cell_type": "code",
   "execution_count": 63,
   "metadata": {},
   "outputs": [
    {
     "data": {
      "text/plain": [
       "0"
      ]
     },
     "execution_count": 63,
     "metadata": {},
     "output_type": "execute_result"
    }
   ],
   "source": [
    "Client.objects.last().hotel_set.count()"
   ]
  },
  {
   "cell_type": "code",
   "execution_count": 75,
   "metadata": {},
   "outputs": [],
   "source": [
    "client.hotel_set.add(Hotel.objects.get(id=2), Hotel.objects.get(id=4), Hotel.objects.get(id=6))"
   ]
  },
  {
   "cell_type": "code",
   "execution_count": 5,
   "metadata": {},
   "outputs": [
    {
     "data": {
      "text/plain": [
       "<QuerySet [{'id': 10, 'name': 'Martin-Johnson'}, {'id': 2, 'name': 'Anderson LLC'}, {'id': 4, 'name': 'Bryant-Bolton'}, {'id': 6, 'name': 'Lynch-Parker'}]>"
      ]
     },
     "execution_count": 5,
     "metadata": {},
     "output_type": "execute_result"
    }
   ],
   "source": [
    "client.hotels.all().values('id', 'name')"
   ]
  }
 ],
 "metadata": {
  "kernelspec": {
   "display_name": "Django Shell-Plus",
   "language": "python",
   "name": "django_extensions"
  }
 },
 "nbformat": 4,
 "nbformat_minor": 2
}
