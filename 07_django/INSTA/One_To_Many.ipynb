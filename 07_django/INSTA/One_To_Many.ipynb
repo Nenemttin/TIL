{
 "cells": [
  {
   "cell_type": "markdown",
   "metadata": {},
   "source": [
    "# One To Many model\n",
    "\n",
    "## Writer\n",
    "\n",
    "| id      | name       |\n",
    "| ------- | ---------- |\n",
    "| PK, INT | CharField, |\n",
    "\n",
    "\n",
    "\n",
    "## Book\n",
    "\n",
    "| id      | author          | title     | description |\n",
    "| ------- | --------------- | --------- | ----------- |\n",
    "| PK, INT | FK, Writer, INT | CharField | TextField   |"
   ]
  },
  {
   "cell_type": "code",
   "execution_count": 2,
   "metadata": {},
   "outputs": [
    {
     "data": {
      "text/plain": [
       "<Writer: Writer object (1)>"
      ]
     },
     "execution_count": 2,
     "metadata": {},
     "output_type": "execute_result"
    }
   ],
   "source": [
    "Writer.objects.create(name='박경리')"
   ]
  },
  {
   "cell_type": "code",
   "execution_count": 9,
   "metadata": {},
   "outputs": [
    {
     "data": {
      "text/plain": [
       "<QuerySet [<Writer: Writer object (1)>]>"
      ]
     },
     "execution_count": 9,
     "metadata": {},
     "output_type": "execute_result"
    }
   ],
   "source": [
    "writer = Writer.objects.get(name='박경리') # 조건 만족하는 객체 1개 return\n",
    "writers = Writer.objects.filter(name='박경리') # 조건을 만족하는 모든 객체 return \n",
    "park_writers_family = Writer.objects.filter(name__contains='박')\n",
    "park_writers_family"
   ]
  },
  {
   "cell_type": "code",
   "execution_count": 3,
   "metadata": {},
   "outputs": [
    {
     "data": {
      "text/plain": [
       "<Book: Book object (1)>"
      ]
     },
     "execution_count": 3,
     "metadata": {},
     "output_type": "execute_result"
    }
   ],
   "source": [
    "Book.objects.create(\n",
    "    author = Writer.objects.get(id=1),\n",
    "    title='토지',\n",
    "    description='최참판 일가와 이용 일가의 가족사를 중심으로 구한말부터 일제강점기를 지나 광복까지의 내용을 다루고 있으며, 모두 5부 16권의 분량으로 구성되어 있다. 1부는 1894년 평사리에서 벌어지는 일을 중심으로 최참판 일가의 몰락을 그리고 있으며, 2부에서는 배경을 만주 용정으로 옮겨 최서희의 치부와 조준구에 대한 복수, 그리고 최서희와 두 아들을 비롯한 평사리 사람들의 귀향을 그리고 있다. 3부에서는 배경이 넓어져 만주와 일본 동경, 서울과 진주를 중심으로 이야기가 전개되며 김환(구천이)이 옥사한다. 4부에서는 김길상의 출옥과 탱화의 완성, 기화(봉순이)의 죽음, 그리고 오가다 지로와 유인실의 사랑과 갈등을 그리고 있으며, 2세대인 이 용의 아들 이홍과, 최서희와 김길상의 두 아들 최환국과 최윤국이 이야기의 전면에 서서히 등장한다. 5부에서는 제2차 세계 대전 가운데 한국인들의 고난과 기다림을 형상화하고 있으며, 주요사건은 이상현과 기화의 딸 이양현과 최윤국, 그리고 송관수의 아들 송영광의 삼각관계가 있다. 이 소설은 일본의 무조건 항복을 알리는 라디오 방송을 들은 이양현이 최서희에게 달려와 그 소식을 전하는 것으로 끝난다.',\n",
    ")"
   ]
  },
  {
   "cell_type": "code",
   "execution_count": 4,
   "metadata": {},
   "outputs": [
    {
     "data": {
      "text/plain": [
       "<Book: Book object (2)>"
      ]
     },
     "execution_count": 4,
     "metadata": {},
     "output_type": "execute_result"
    }
   ],
   "source": [
    "Book.objects.create(\n",
    "    author = Writer.objects.get(id=1),\n",
    "    title='불신시대',\n",
    "    description='1957년 8월《현대문학》에 발표된 박경리의 단편 소설로, 전쟁통인 9ㆍ28 수복 전야에 남편을 잃고 그 후 얼마 안가서 아들마저 잃은 주인공 진영이 전후 사회의 부조리와 허위와 위선으로 가득찬 사회로부터 상처받는 모습을 그리고 있는 작품이다. 널리 알려진 바와 같이 박경리의 초기 소설에 등장하는 주인공의 대부분은 전쟁 미망인으로 나타난다. 이는 작가 자신의 자전적 요소가 작품에 반영된 결과라고 할 수 있다. 박경리의 초기 소설은 작가 자신의 분신이라고 할 수 있는 미망인 주인공들이 당대의 사회와 접촉해 가는 과정에서 발생되는 일련의 갈등이 중요한 테마로 나타나게 되는데,《불신 시대》는 그러한 특성이 단적으로 보여주는 작품이라고 할 수 있다.',\n",
    ")"
   ]
  },
  {
   "cell_type": "code",
   "execution_count": 1,
   "metadata": {},
   "outputs": [],
   "source": [
    "writer = Writer.objects.get(id=1)"
   ]
  },
  {
   "cell_type": "code",
   "execution_count": 5,
   "metadata": {},
   "outputs": [],
   "source": [
    "book1 = Book.objects.first()\n",
    "book2 = Book.objects.last()"
   ]
  },
  {
   "cell_type": "code",
   "execution_count": 3,
   "metadata": {},
   "outputs": [
    {
     "data": {
      "text/plain": [
       "'박경리'"
      ]
     },
     "execution_count": 3,
     "metadata": {},
     "output_type": "execute_result"
    }
   ],
   "source": [
    "writer.name"
   ]
  },
  {
   "cell_type": "code",
   "execution_count": 8,
   "metadata": {},
   "outputs": [
    {
     "data": {
      "text/plain": [
       "'박경리'"
      ]
     },
     "execution_count": 8,
     "metadata": {},
     "output_type": "execute_result"
    }
   ],
   "source": [
    "book1.author.name"
   ]
  },
  {
   "cell_type": "code",
   "execution_count": 7,
   "metadata": {},
   "outputs": [
    {
     "data": {
      "text/plain": [
       "'불신시대'"
      ]
     },
     "execution_count": 7,
     "metadata": {},
     "output_type": "execute_result"
    }
   ],
   "source": [
    "book2.title"
   ]
  },
  {
   "cell_type": "code",
   "execution_count": 10,
   "metadata": {},
   "outputs": [],
   "source": [
    "#1\n",
    "favourite_book = Book.objects.get(title='토지')\n",
    "favourite_writer_name = favourite_book.author.name\n"
   ]
  },
  {
   "cell_type": "code",
   "execution_count": 12,
   "metadata": {},
   "outputs": [],
   "source": [
    "favourite_writer = Writer.objects.get(name=favourite_writer_name)\n",
    "favourite_writer_books = Book.objects.filter(author=favourite_writer)"
   ]
  },
  {
   "cell_type": "code",
   "execution_count": 16,
   "metadata": {},
   "outputs": [
    {
     "data": {
      "text/plain": [
       "<QuerySet [<Book: Book object (1)>, <Book: Book object (2)>]>"
      ]
     },
     "execution_count": 16,
     "metadata": {},
     "output_type": "execute_result"
    }
   ],
   "source": [
    "favourite_writer_books"
   ]
  },
  {
   "cell_type": "code",
   "execution_count": 18,
   "metadata": {},
   "outputs": [
    {
     "data": {
      "text/plain": [
       "<QuerySet [<Book: Book object (1)>, <Book: Book object (2)>]>"
      ]
     },
     "execution_count": 18,
     "metadata": {},
     "output_type": "execute_result"
    }
   ],
   "source": [
    "Book.objects.filter(author=Writer.objects.get(name=Book.objects.get(title='토지').author.name))"
   ]
  },
  {
   "cell_type": "code",
   "execution_count": 19,
   "metadata": {},
   "outputs": [
    {
     "data": {
      "text/plain": [
       "'토지'"
      ]
     },
     "execution_count": 19,
     "metadata": {},
     "output_type": "execute_result"
    }
   ],
   "source": [
    "Book.objects.filter(description__contains='일제')[0].title"
   ]
  },
  {
   "cell_type": "code",
   "execution_count": 21,
   "metadata": {},
   "outputs": [
    {
     "data": {
      "text/plain": [
       "<QuerySet [<Book: Book object (1)>, <Book: Book object (2)>]>"
      ]
     },
     "execution_count": 21,
     "metadata": {},
     "output_type": "execute_result"
    }
   ],
   "source": [
    "fav_writer = Book.objects.get(title='토지').author\n",
    "\n",
    "# 책 전체 중에 - 내가 최애 작가님이 쓴 책 - 다 갖고와\n",
    "Book.objects.filter(author=fav_writer)"
   ]
  },
  {
   "cell_type": "code",
   "execution_count": 22,
   "metadata": {},
   "outputs": [
    {
     "data": {
      "text/plain": [
       "<QuerySet [<Book: Book object (1)>, <Book: Book object (2)>]>"
      ]
     },
     "execution_count": 22,
     "metadata": {},
     "output_type": "execute_result"
    }
   ],
   "source": [
    "# 내가 최애 작가님이 - 쓴 책 - 전부 갖고와\n",
    "fav_writer.book_set.all()"
   ]
  },
  {
   "cell_type": "code",
   "execution_count": 23,
   "metadata": {},
   "outputs": [
    {
     "name": "stdout",
     "output_type": "stream",
     "text": [
      "토지\n",
      "불신시대\n"
     ]
    }
   ],
   "source": [
    "for book in fav_writer.book_set.all():\n",
    "    print(book.title)"
   ]
  }
 ],
 "metadata": {
  "kernelspec": {
   "display_name": "Django Shell-Plus",
   "language": "python",
   "name": "django_extensions"
  },
  "language_info": {
   "codemirror_mode": {
    "name": "ipython",
    "version": 3
   },
   "file_extension": ".py",
   "mimetype": "text/x-python",
   "name": "python",
   "nbconvert_exporter": "python",
   "pygments_lexer": "ipython3",
   "version": "3.7.3"
  }
 },
 "nbformat": 4,
 "nbformat_minor": 2
}
