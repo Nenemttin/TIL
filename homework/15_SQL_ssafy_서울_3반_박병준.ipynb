{
 "cells": [
  {
   "cell_type": "markdown",
   "metadata": {},
   "source": [
    "###  1. 우리가 사용하는 SQLite는 RDBMS 에 속한다. RDBMS 의 특징을 2가지만 작성하세요.\n",
    "\n",
    "* 모든 데이터를 2차원 테이블로 표현\n",
    "\n",
    "* 테이블은 row(record, tuple)과 column(field, item)으로 이루어진 기본 데이터 저장 단위\n",
    "\n",
    "* 상호관련성을 가진 테이블(table)의 집합\n",
    "\n",
    "* 만들거나 이용하기도 비교적 쉽지만, 무엇보다도 확장이 용이하다는 장점을 가짐\n",
    "\n",
    "* 데이터베이스의 설계도를 ER(Entity Relationship) 모델\n",
    "\n",
    "* ER모델에 따라, 데이터베이스가 만들어지며, 데이터베이스는 하나 이상의 테이블로 구성 됨. ER모델에서 엔티티를 기반으로 테이블이 만들어짐\n"
   ]
  },
  {
   "cell_type": "markdown",
   "metadata": {},
   "source": [
    "### 2. True, False\n",
    "* 2.1. 모든 RDBMS 는 같은 SQL 문을 사용한다. (True)\n",
    "* 2.2. SQL 에서 명령어는 대문자로 써야만 동작한다. (False)\n",
    "* 2.3. 일반적인 SQL 문에서 명령어는 세미콜론(;)으로 끝난다. (True)\n",
    "* 2.4. SQLite 에서 dot(.)으로 시작하는 명령어는 SQL이 아니다. (True)\n",
    "* 2.5. 한 개의 DB에는 한 개의 테이블만 존재한다. (False)"
   ]
  },
  {
   "cell_type": "markdown",
   "metadata": {},
   "source": [
    "### 3. 다음 코드의 실행결과로 나타나는 값을 작성하세요.\n",
    "```\n",
    "sqlite> CREATE TABLE ssafy (\n",
    "…> id INTEGER,\n",
    "…> location TEXT,\n",
    "…> class INTEGER\n",
    "…> );\n",
    "sqlite> INSERT INTO ssafy (id, location)\n",
    "…> VALUES (1, ‘JEJU’);\n",
    "sqlite> SELECT class FROM ssafy WHERE id=1;\n",
    "```\n",
    "\n",
    "* NULL"
   ]
  },
  {
   "cell_type": "code",
   "execution_count": null,
   "metadata": {},
   "outputs": [],
   "source": []
  }
 ],
 "metadata": {
  "kernelspec": {
   "display_name": "Python 3",
   "language": "python",
   "name": "python3"
  },
  "language_info": {
   "codemirror_mode": {
    "name": "ipython",
    "version": 3
   },
   "file_extension": ".py",
   "mimetype": "text/x-python",
   "name": "python",
   "nbconvert_exporter": "python",
   "pygments_lexer": "ipython3",
   "version": "3.6.7"
  }
 },
 "nbformat": 4,
 "nbformat_minor": 2
}
