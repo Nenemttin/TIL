{
 "cells": [
  {
   "cell_type": "markdown",
   "metadata": {},
   "source": [
    "### 1. Django에서선언한Model을실제DB에반영하는과정을무엇이라고하는가?\n",
    "\n",
    "* 답 : Migration"
   ]
  },
  {
   "cell_type": "markdown",
   "metadata": {},
   "source": [
    "### 2.모델의필드를정의할때CharField는 필수로들어가야하는인자가존재한다.무엇인가?\n",
    "\n",
    "* 답 : max_length"
   ]
  },
  {
   "cell_type": "markdown",
   "metadata": {},
   "source": [
    "### 3.Django 에서동작하는모든명령을대화식Python쉘에서시험할수있는명령어를작성하세요.\n",
    "\n",
    "* 답 : python manage.py shell"
   ]
  },
  {
   "cell_type": "markdown",
   "metadata": {},
   "source": [
    "### 4. Post라는이름의모델은CharField로정해진title과CharField로정해진content가필드로정의되어있다.제목은자신의이름,내용은자신의이메일정보가들어간Post를만드는코드를작성하세요.\n",
    "\n",
    "```python\n",
    "class Post(models.Model):\n",
    "    title = models.CharField(max_length=50)\n",
    "    content = models.CharField(max_length=50)\n",
    "```\n",
    "\n",
    "```python\n",
    "o = Post(title='Jun', content='afk_kkk@naver.com')\n",
    "```"
   ]
  }
 ],
 "metadata": {
  "kernelspec": {
   "display_name": "Python 3",
   "language": "python",
   "name": "python3"
  },
  "language_info": {
   "codemirror_mode": {
    "name": "ipython",
    "version": 3
   },
   "file_extension": ".py",
   "mimetype": "text/x-python",
   "name": "python",
   "nbconvert_exporter": "python",
   "pygments_lexer": "ipython3",
   "version": "3.6.7"
  }
 },
 "nbformat": 4,
 "nbformat_minor": 2
}
