{
 "cells": [
  {
   "cell_type": "markdown",
   "metadata": {},
   "source": [
    "### 1. Django는요청에대한응답을해줄때허용하는도메인에게만응답을해주도록설정한다.Settings.py파일에서도메인을허용하기위해수정해줘야하는변수이름을찾아서적어주세요\n",
    "\n",
    "* ALLOWED_HOSTS = [도메인 네임]"
   ]
  },
  {
   "cell_type": "markdown",
   "metadata": {},
   "source": [
    "### 2. https//'your-server-url'/ssafy 로 요청이 들어왔을 때 응답을 해주기 위해 urls.py에 추가해주어야 할 코드를 작성하세요.\n",
    "\n",
    "\n",
    "```python\n",
    "from home import views\n",
    "\n",
    "urlpatterns = [\n",
    "    path('ssafy/', views.ssafy),\n",
    "]\n",
    "```\n"
   ]
  },
  {
   "cell_type": "markdown",
   "metadata": {},
   "source": [
    "### 3. Django 서버를실행시키는명령어를작성해주세요(C9환경에서)\n",
    "\n",
    "```python\n",
    "# python manage.py runserver $IP:$PORT\n",
    "```"
   ]
  },
  {
   "cell_type": "markdown",
   "metadata": {},
   "source": [
    "### 4. django는MTV로이루어진web framework 이다.MTV가무엇의약자인지작성하세요\n",
    "\n",
    "* Model Template View"
   ]
  }
 ],
 "metadata": {
  "kernelspec": {
   "display_name": "Python 3",
   "language": "python",
   "name": "python3"
  },
  "language_info": {
   "codemirror_mode": {
    "name": "ipython",
    "version": 3
   },
   "file_extension": ".py",
   "mimetype": "text/x-python",
   "name": "python",
   "nbconvert_exporter": "python",
   "pygments_lexer": "ipython3",
   "version": "3.6.7"
  }
 },
 "nbformat": 4,
 "nbformat_minor": 2
}
