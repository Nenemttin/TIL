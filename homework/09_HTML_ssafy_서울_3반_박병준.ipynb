{
 "cells": [
  {
   "cell_type": "markdown",
   "metadata": {},
   "source": [
    "### 1번 문제\n",
    "* html은 hyper text markup language 이므로 답은 (3)"
   ]
  },
  {
   "cell_type": "markdown",
   "metadata": {},
   "source": [
    "### 2번 문제\n",
    "* F 웹표준은 w3c \n",
    "* F 안써도 된다.\n",
    "* T \n",
    "* T"
   ]
  },
  {
   "cell_type": "markdown",
   "metadata": {},
   "source": [
    "### 3번 문제\n",
    "* article, footer, nav"
   ]
  },
  {
   "cell_type": "markdown",
   "metadata": {},
   "source": [
    "### 4번 문제\n",
    "\n",
    "\n",
    "\n",
    "<form action=\"\" method=\"POST\">\n",
    "    <label>ID:</label>\n",
    "    <input type=\"text\" placeholder=\"user\" />\n",
    "    <br>\n",
    "    <label>PWD:</label>\n",
    "    <input type=\"password\" placeholder=\"****\" />\n",
    "    <button type=\"submit\">로그인</button>\n",
    "</form>\n"
   ]
  }
 ],
 "metadata": {
  "kernelspec": {
   "display_name": "Python 3",
   "language": "python",
   "name": "python3"
  },
  "language_info": {
   "codemirror_mode": {
    "name": "ipython",
    "version": 3
   },
   "file_extension": ".py",
   "mimetype": "text/x-python",
   "name": "python",
   "nbconvert_exporter": "python",
   "pygments_lexer": "ipython3",
   "version": "3.6.7"
  }
 },
 "nbformat": 4,
 "nbformat_minor": 2
}
