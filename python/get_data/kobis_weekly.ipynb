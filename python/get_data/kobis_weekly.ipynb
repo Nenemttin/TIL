{
 "cells": [
  {
   "cell_type": "code",
   "execution_count": 1,
   "metadata": {},
   "outputs": [],
   "source": [
    "key = '149bb4a6a2cc08030fdf79d011560b29'\n",
    "URL = f'http://www.kobis.or.kr/kobisopenapi/webservice/rest/boxoffice/searchWeeklyBoxOfficeList.json?key={key}&targetDt=20190113&weekGb=0'"
   ]
  },
  {
   "cell_type": "code",
   "execution_count": 10,
   "metadata": {},
   "outputs": [],
   "source": [
    "import requests\n",
    "\n",
    "data = requests.get(URL).json()['boxOfficeResult']['weeklyBoxOfficeList']\n",
    "\n"
   ]
  },
  {
   "cell_type": "code",
   "execution_count": 19,
   "metadata": {},
   "outputs": [
    {
     "name": "stdout",
     "output_type": "stream",
     "text": [
      "['20184105', '20176251', '20189463', '20183915', '20180290', '20185485', '20184574', '20186281', '20170658', '20187427']\n"
     ]
    }
   ],
   "source": [
    "movie_code = []\n",
    "for moviecode in range(10):\n",
    "    movie_code.append(data[moviecode]['movieCd'])\n",
    "    \n",
    "print(movie_code)"
   ]
  },
  {
   "cell_type": "code",
   "execution_count": 23,
   "metadata": {},
   "outputs": [
    {
     "name": "stdout",
     "output_type": "stream",
     "text": [
      "{'1': '말모이', '2': '내안의 그놈', '3': '주먹왕 랄프 2: 인터넷 속으로', '4': '극장판 공룡메카드: 타이니소어의 섬', '5': '아쿠아맨', '6': '보헤미안 랩소디', '7': '그린 북', '8': '범블비', '9': 'PMC: 더 벙커', '10': '명탐정 코난 : 제로의 집행인'}\n"
     ]
    }
   ],
   "source": [
    "title = {}\n",
    "for movietitle in range(10):\n",
    "    title[data[movietitle]['rank']] = data[movietitle]['movieNm']\n",
    "\n",
    "\n",
    "print(title)\n"
   ]
  },
  {
   "cell_type": "code",
   "execution_count": 24,
   "metadata": {},
   "outputs": [
    {
     "name": "stdout",
     "output_type": "stream",
     "text": [
      "['1185368', '765383', '1342315', '289873', '4920735', '9785643', '99569', '1553491', '1665204', '414506']\n"
     ]
    }
   ],
   "source": [
    "audience = []\n",
    "for aud in range(10):\n",
    "    audience.append(data[aud]['audiAcc'])\n",
    "\n",
    "print(audience)"
   ]
  },
  {
   "cell_type": "code",
   "execution_count": null,
   "metadata": {},
   "outputs": [],
   "source": [
    "필요한 정보\n",
    "영화 대표코드 movieCd\n",
    "영화명 movieNm\n",
    "해당일 누적관객수 audiAcc\n",
    "해당일 매주 일요일\n",
    "\n",
    "\n",
    "movie_code\n",
    "title\n",
    "audience\n",
    "recorded_at"
   ]
  },
  {
   "cell_type": "code",
   "execution_count": 1,
   "metadata": {},
   "outputs": [],
   "source": [
    "# 20190113\n",
    "\n",
    "key = '149bb4a6a2cc08030fdf79d011560b29'\n",
    "URL = f'http://www.kobis.or.kr/kobisopenapi/webservice/rest/boxoffice/searchWeeklyBoxOfficeList.json?key={key}&targetDt=20190113&weekGb=0'\n",
    "\n",
    "import requests\n",
    "\n",
    "data = requests.get(URL).json()['boxOfficeResult']['weeklyBoxOfficeList']\n"
   ]
  },
  {
   "cell_type": "code",
   "execution_count": 2,
   "metadata": {},
   "outputs": [
    {
     "name": "stdout",
     "output_type": "stream",
     "text": [
      "[['20184105', '20176251', '20189463', '20180290', '20183915', '20185485', '20184574', '20186281', '20170658', '20175547'], ['말모이', '내안의 그놈', '주먹왕 랄프 2: 인터넷 속으로', '아쿠아맨', '극장판 공룡메카드: 타이니소어의 섬', '보헤미안 랩소디', '그린 북', '범블비', 'PMC: 더 벙커', '스윙키즈'], ['1185368', '765383', '1342315', '4920735', '289873', '9785643', '99569', '1553491', '1665204', '1462874']]\n"
     ]
    }
   ],
   "source": [
    "collected_data = [[], [], []]\n",
    "\n",
    "for i in range(10):\n",
    "    collected_data[0].append(data[i]['movieCd'])\n",
    "    collected_data[1].append(data[i]['movieNm'])\n",
    "    collected_data[2].append(data[i]['audiAcc'])\n",
    "\n",
    "print(collected_data)\n"
   ]
  },
  {
   "cell_type": "code",
   "execution_count": 3,
   "metadata": {},
   "outputs": [],
   "source": [
    "import requests\n",
    "import csv\n",
    "\n",
    "boxoffice_date = [20181111, 20181118, 20181125, 20181202, 20181209, 20181216, 20181223, 20181230, 20190106, 20190113]\n",
    "\n",
    "key = '149bb4a6a2cc08030fdf79d011560b29'\n",
    "URL = f'http://www.kobis.or.kr/kobisopenapi/webservice/rest/boxoffice/searchWeeklyBoxOfficeList.json?key={key}'\n",
    "\n",
    "collected_moviecd = []\n",
    "collected_title = []\n",
    "collected_audiacc = []\n",
    "collected_date= []\n",
    "\n",
    "\n",
    "for d in range(len(boxoffice_date)):\n",
    "    data = requests.get(URL+f'&targetDt={boxoffice_date[d]}&weekGb=0').json()['boxOfficeResult']['weeklyBoxOfficeList']\n",
    "    for i in range(len(boxoffice_date)):\n",
    "        collected_moviecd.append(data[i]['movieCd'])\n",
    "        collected_title.append(data[i]['movieNm'])\n",
    "        collected_audiacc.append(data[i]['audiAcc'])\n",
    "        collected_date.append(boxoffice_date[d])"
   ]
  },
  {
   "cell_type": "code",
   "execution_count": 30,
   "metadata": {},
   "outputs": [],
   "source": [
    "aggregate_data_dict = {}\n",
    "\n",
    "for i in range(100):\n",
    "    aggregate_data_dict[collected_moviecd[i]] = [collected_title[i], collected_audiacc[i], collected_date[i]]\n",
    "\n",
    "# print(aggregate_data_dict)\n",
    "\n",
    "\n",
    "my_boxoffice = []\n",
    "\n",
    "for k, v in aggregate_data_dict.items():\n",
    "    my_boxoffice.append([k]+v)\n",
    "    \n",
    "my_boxoffice\n",
    "    \n",
    "boxoffice = open('boxoffice.csv', 'w+', encoding='utf-8', newline='')\n",
    "\n",
    "writer = csv.writer(boxoffice)\n",
    "\n",
    "for data in my_boxoffice:\n",
    "    writer.writerow(data)\n",
    "\n",
    "boxoffice.close()\n",
    "\n"
   ]
  },
  {
   "cell_type": "code",
   "execution_count": 34,
   "metadata": {},
   "outputs": [
    {
     "name": "stdout",
     "output_type": "stream",
     "text": [
      "20177538\n",
      "20185485\n",
      "20170513\n",
      "20181171\n",
      "20174981\n",
      "20010291\n",
      "20179006\n",
      "20181404\n",
      "20180523\n",
      "20182693\n",
      "20176814\n",
      "20183050\n",
      "20184481\n",
      "20182935\n",
      "20186822\n",
      "20189869\n",
      "20183073\n",
      "20182669\n",
      "20177552\n",
      "20181905\n",
      "20183007\n",
      "20182966\n",
      "20179230\n",
      "20189843\n",
      "20178825\n",
      "20183745\n",
      "20183238\n",
      "20182082\n",
      "20175547\n",
      "20180290\n",
      "20168773\n",
      "20182421\n",
      "20183479\n",
      "20183375\n",
      "20186281\n",
      "20170658\n",
      "20183785\n",
      "20189463\n",
      "20184187\n",
      "20184105\n",
      "20176251\n",
      "20183915\n",
      "20184574\n"
     ]
    }
   ],
   "source": []
  },
  {
   "cell_type": "code",
   "execution_count": 60,
   "metadata": {},
   "outputs": [
    {
     "data": {
      "text/plain": [
       "{'movieCd': '20184574',\n",
       " 'movieNm': '그린 북',\n",
       " 'movieNmEn': 'Green Book',\n",
       " 'movieNmOg': '',\n",
       " 'showTm': '130',\n",
       " 'prdtYear': '2018',\n",
       " 'openDt': '20190109',\n",
       " 'prdtStatNm': '개봉',\n",
       " 'typeNm': '장편',\n",
       " 'nations': [{'nationNm': '미국'}],\n",
       " 'genres': [{'genreNm': '드라마'}],\n",
       " 'directors': [{'peopleNm': '피터 패럴리', 'peopleNmEn': 'Peter Farrelly'}],\n",
       " 'actors': [{'peopleNm': '비고 모텐슨',\n",
       "   'peopleNmEn': 'Viggo Mortensen',\n",
       "   'cast': '',\n",
       "   'castEn': ''},\n",
       "  {'peopleNm': '마허샬라 알리',\n",
       "   'peopleNmEn': 'Mahershala Ali',\n",
       "   'cast': '',\n",
       "   'castEn': ''}],\n",
       " 'showTypes': [{'showTypeGroupNm': '2D', 'showTypeNm': '디지털'}],\n",
       " 'companys': [{'companyCd': '20102327',\n",
       "   'companyNm': 'CGV아트하우스',\n",
       "   'companyNmEn': 'CGV ARTHOUSE',\n",
       "   'companyPartNm': '배급사'},\n",
       "  {'companyCd': '20110854',\n",
       "   'companyNm': '씨제이이앤엠(주)',\n",
       "   'companyNmEn': 'CJ ENM Corp.',\n",
       "   'companyPartNm': '수입사'}],\n",
       " 'audits': [{'auditNo': '2018-MF02280', 'watchGradeNm': '12세이상관람가'}],\n",
       " 'staffs': []}"
      ]
     },
     "execution_count": 60,
     "metadata": {},
     "output_type": "execute_result"
    }
   ],
   "source": [
    "URL_DETAIL = f'http://www.kobis.or.kr/kobisopenapi/webservice/rest/movie/searchMovieInfo.json?key={key}&movieCd='\n",
    "\n",
    "moviecds = []\n",
    "\n",
    "for i in my_boxoffice:\n",
    "    moviecds.append(i[0])\n",
    "\n",
    "movienms = []\n",
    "movienmens = []\n",
    "movienmogs = []\n",
    "opendts = []\n",
    "genres = []\n",
    "directorsall = []\n",
    "watchgradenms = []\n",
    "actors1 = []\n",
    "actors2 = []\n",
    "actors3 = []\n",
    "\n",
    "\n",
    "\n",
    "data_detail = requests.get(URL_DETAIL+f'{20184574}').json()['movieInfoResult']['movieInfo']\n",
    "# \n",
    "for de in moviecds:\n",
    "    data_detail = requests.get(URL_DETAIL+f'{de}').json()['movieInfoResult']['movieInfo']\n",
    "    movienms.append(data_detail['movieNm'])\n",
    "    movienmens.append(data_detail['moviceNmEn'])\n",
    "    movienmogs.append(data_detail['movieNmOg'])\n",
    "    opendts.append(data_detail['openDt'])\n",
    "    genres.append(data_detail['genres'][0]['peopleNm'])\n",
    "    directorsall.append(data_detail['directors'][0]['peopelNm'])\n",
    "    watchgradenms.append(data_detail['audits'][0]['watchGradeNm'])\n",
    "    actors1.append(data_detail)\n",
    "    \n",
    "        \n",
    "\n",
    "data_detail"
   ]
  }
 ],
 "metadata": {
  "kernelspec": {
   "display_name": "Python 3",
   "language": "python",
   "name": "python3"
  },
  "language_info": {
   "codemirror_mode": {
    "name": "ipython",
    "version": 3
   },
   "file_extension": ".py",
   "mimetype": "text/x-python",
   "name": "python",
   "nbconvert_exporter": "python",
   "pygments_lexer": "ipython3",
   "version": "3.6.7"
  }
 },
 "nbformat": 4,
 "nbformat_minor": 2
}
