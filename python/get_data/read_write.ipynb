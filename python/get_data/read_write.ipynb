{
 "cells": [
  {
   "cell_type": "code",
   "execution_count": 7,
   "metadata": {},
   "outputs": [],
   "source": [
    "import csv"
   ]
  },
  {
   "cell_type": "code",
   "execution_count": 9,
   "metadata": {},
   "outputs": [],
   "source": [
    "f_w = open('ss3.csv', 'a+', encoding='utf-8', newline='')\n",
    "writer = csv.writer(f_w)\n",
    "\n",
    "for i in range(7):\n",
    "    writer.writerow([i, i, i])\n",
    "\n",
    "f_w.close()"
   ]
  },
  {
   "cell_type": "code",
   "execution_count": null,
   "metadata": {},
   "outputs": [],
   "source": []
  },
  {
   "cell_type": "code",
   "execution_count": 11,
   "metadata": {},
   "outputs": [
    {
     "name": "stdout",
     "output_type": "stream",
     "text": [
      "['황은석', '강진우']\n",
      "[]\n",
      "['반장', 'CA']\n",
      "[]\n",
      "['0', '0', '0', '0']\n",
      "[]\n",
      "['1', '1', '1', '1']\n",
      "[]\n",
      "['2', '2', '2', '2']\n",
      "[]\n",
      "['3', '3', '3', '3']\n",
      "[]\n",
      "['4', '4', '4', '4']\n",
      "[]\n",
      "['5', '5', '5', '5']\n",
      "[]\n",
      "['6', '6', '6', '6']\n",
      "[]\n",
      "['0', '0', '0', '0']\n",
      "[]\n",
      "['1', '1', '1', '1']\n",
      "[]\n",
      "['2', '2', '2', '2']\n",
      "[]\n",
      "['3', '3', '3', '3']\n",
      "[]\n",
      "['4', '4', '4', '4']\n",
      "[]\n",
      "['5', '5', '5', '5']\n",
      "[]\n",
      "['6', '6', '6', '6']\n",
      "[]\n",
      "['0', '0', '0', '0']\n",
      "['1', '1', '1', '1']\n",
      "['2', '2', '2', '2']\n",
      "['3', '3', '3', '3']\n",
      "['4', '4', '4', '4']\n",
      "['5', '5', '5', '5']\n",
      "['6', '6', '6', '6']\n",
      "['0', '0', '0', '0']\n",
      "['1', '1', '1', '1']\n",
      "['2', '2', '2', '2']\n",
      "['3', '3', '3', '3']\n",
      "['4', '4', '4', '4']\n",
      "['5', '5', '5', '5']\n",
      "['6', '6', '6', '6']\n",
      "['0', '0', '0', '0']\n",
      "['1', '1', '1', '1']\n",
      "['2', '2', '2', '2']\n",
      "['3', '3', '3', '3']\n",
      "['4', '4', '4', '4']\n",
      "['5', '5', '5', '5']\n",
      "['6', '6', '6', '6']\n",
      "['0', '0', '0']\n",
      "['1', '1', '1']\n",
      "['2', '2', '2']\n",
      "['3', '3', '3']\n",
      "['4', '4', '4']\n",
      "['5', '5', '5']\n",
      "['6', '6', '6']\n"
     ]
    }
   ],
   "source": [
    "f_r = open('ss3.csv', 'r', encoding='utf-8', newline='')\n",
    "\n",
    "reader = csv.reader(f_r)\n",
    "for line in reader:\n",
    "    print(line)"
   ]
  }
 ],
 "metadata": {
  "kernelspec": {
   "display_name": "Python 3",
   "language": "python",
   "name": "python3"
  },
  "language_info": {
   "codemirror_mode": {
    "name": "ipython",
    "version": 3
   },
   "file_extension": ".py",
   "mimetype": "text/x-python",
   "name": "python",
   "nbconvert_exporter": "python",
   "pygments_lexer": "ipython3",
   "version": "3.6.7"
  }
 },
 "nbformat": 4,
 "nbformat_minor": 2
}
