{
 "cells": [
  {
   "cell_type": "code",
   "execution_count": 1,
   "metadata": {},
   "outputs": [],
   "source": [
    "import requests\n",
    "import csv\n",
    "\n",
    "boxoffice_date = [20181111, 20181118, 20181125, 20181202, 20181209, 20181216, 20181223, 20181230, 20190106, 20190113]\n",
    "\n",
    "key = '149bb4a6a2cc08030fdf79d011560b29'\n",
    "URL = f'http://www.kobis.or.kr/kobisopenapi/webservice/rest/boxoffice/searchWeeklyBoxOfficeList.json?key={key}&weekGb=0'\n",
    "\n",
    "collected_moviecd = []\n",
    "\n",
    "\n",
    "for d in range(len(boxoffice_date)):\n",
    "    data = requests.get(URL+f'&targetDt={boxoffice_date[d]}&weekGb=0').json()['boxOfficeResult']['weeklyBoxOfficeList']\n",
    "    for i in range(10):\n",
    "        collected_moviecd.append(data[i]['movieCd'])\n",
    "\n",
    "aggregate_data_dict = {}\n",
    "\n",
    "for i in range(100):\n",
    "    aggregate_data_dict[collected_moviecd[i]] = [collected_title[i], collected_audiacc[i], collected_date[i]]\n",
    "\n",
    "# print(aggregate_data_dict)\n",
    "\n",
    "\n",
    "my_boxoffice = []\n",
    "\n",
    "for k, v in aggregate_data_dict.items():\n",
    "    my_boxoffice.append([k]+v)"
   ]
  },
  {
   "cell_type": "code",
   "execution_count": 4,
   "metadata": {},
   "outputs": [
    {
     "data": {
      "text/plain": [
       "100"
      ]
     },
     "execution_count": 4,
     "metadata": {},
     "output_type": "execute_result"
    }
   ],
   "source": []
  }
 ],
 "metadata": {
  "kernelspec": {
   "display_name": "Python 3",
   "language": "python",
   "name": "python3"
  },
  "language_info": {
   "codemirror_mode": {
    "name": "ipython",
    "version": 3
   },
   "file_extension": ".py",
   "mimetype": "text/x-python",
   "name": "python",
   "nbconvert_exporter": "python",
   "pygments_lexer": "ipython3",
   "version": "3.6.7"
  }
 },
 "nbformat": 4,
 "nbformat_minor": 2
}
