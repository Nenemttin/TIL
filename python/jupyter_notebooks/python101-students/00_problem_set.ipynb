{
 "cells": [
  {
   "cell_type": "markdown",
   "metadata": {},
   "source": [
    "# Problem set"
   ]
  },
  {
   "cell_type": "markdown",
   "metadata": {},
   "source": [
    "### **190108**"
   ]
  },
  {
   "cell_type": "markdown",
   "metadata": {},
   "source": [
    "### 1. 이상한 덧셈\n",
    "> 숫자로 구성된 리스트에서 양의 정수의 합을 구하는 함수, `positive_sum` 을 만들어보아요\n",
    "\n",
    "예시)\n",
    "```python\n",
    "positive_sum([1, -10, 2]) # 3\n",
    "positive_sum([-1, -2, -3, -4]) # 0\n",
    "```"
   ]
  },
  {
   "cell_type": "code",
   "execution_count": null,
   "metadata": {},
   "outputs": [],
   "source": [
    "def positive_sum(n):\n",
    "    sum_positive = 0\n",
    "    for i in n:\n",
    "        if i > 0:\n",
    "            sum_positive += i\n",
    "    return sum_positive\n",
    "\n",
    "print(positive_sum([1, -10, 2]))\n",
    "print(positive_sum([-1, -2, -3, -4]))"
   ]
  },
  {
   "cell_type": "code",
   "execution_count": null,
   "metadata": {},
   "outputs": [],
   "source": [
    "def pos_sum(numbers): #generator\n",
    "    return sum(x for x in numbers if x >0)"
   ]
  },
  {
   "cell_type": "markdown",
   "metadata": {},
   "source": [
    "### 2. 문자열 탐색\n",
    "> 문자열 요소로만 이루어진 리스트를 넣었을 때, 문자열의 길이가 2 이상이고 주어진 문자열의 첫 번째와 마지막 문자가 같은 문자열의 수를 세는 함수 `start_end` 를 작성하세요\n",
    "\n",
    "예시)\n",
    "```python\n",
    "start_end(['level', 'asdwe', 's', 'abadsfa', 'q1q']) #3\n",
    "```"
   ]
  },
  {
   "cell_type": "code",
   "execution_count": null,
   "metadata": {},
   "outputs": [],
   "source": [
    "def start_end(string):\n",
    "    count = 0\n",
    "    for s in string:\n",
    "        if len(s) >= 2 and s[0] == s[-1]:\n",
    "            count +=1\n",
    "    return count\n",
    "\n",
    "print(start_end(['level', 'asdwe', 's', 'abadsfa', 'q1q']))"
   ]
  },
  {
   "cell_type": "markdown",
   "metadata": {},
   "source": [
    "### 3. Collatz\n",
    "> Collatz 추측 : 어떤 자연수 n 이던지, 다음과 같은 작업을 반복하면 1로 만들 수 있다\n",
    "1. n이 짝수라면 2로 나눈다.\n",
    "2. n이 홀수라면 3을 곱하고 1을 더한다.\n",
    "3. 결과로 나온 수에 1 / 2의 작업을 1이 될때까지 반복한다.\n",
    "\n",
    "> 예를 들어 n이 6이면, 6 => 3 => 10 => 5 => 16 => 8 => 4 => 2 => 1 이 되며 8번(=> 갯수!)만에 1이 됩니다. 자연수 n이 들어왔을 때, 몇 번의 작업만에 1이 되는지를 `return`하는 함수 `collatz()`를 완성하세요\n",
    "\n",
    "> 단! 500 번을 넘어가도 1이 되지 않는다면, -1을 `return` 할게요!\n",
    "\n",
    "예시)\n",
    "```python\n",
    "collatz(6) # 8\n",
    "collatz(16) # 4\n",
    "collatz(6263313) # -1\n",
    "```"
   ]
  },
  {
   "cell_type": "code",
   "execution_count": null,
   "metadata": {},
   "outputs": [],
   "source": [
    "def collatz(n, count=0):\n",
    "    if count == 500:\n",
    "        return -1\n",
    "    \n",
    "    if n == 1:\n",
    "        return count\n",
    "    \n",
    "    if n % 2:\n",
    "        return collatz(3*n+1, count+1)\n",
    "    else:\n",
    "        return collatz(n/2, count+1)\n",
    "\n",
    "print(collatz(6))\n",
    "    \n",
    "\n",
    "\n"
   ]
  },
  {
   "cell_type": "markdown",
   "metadata": {},
   "source": [
    "### 4. 솔로천국\n",
    "> 리스트가 주어질 때, 리스트의 요소 `e`는 `range(0, 10)`에 포함되는 자연수이다. 리스트에서 연속적으로 나타나는 숫자는 하나만 남기고 전부 \n",
    "제거하여 `return` 하는 함수 `lonely()`를 작성해보세요. 이때, 제거된 후 남은 수들을 반환할 때는 리스트의 요소들이 순서를 유지해야 합니다.\n",
    "```python\n",
    "lonely([1, 1, 3, 3, 0, 1, 1, 3, 0, 3]) # [1 , 3, 0]\n",
    "```"
   ]
  },
  {
   "cell_type": "code",
   "execution_count": null,
   "metadata": {},
   "outputs": [],
   "source": [
    "def lonely(my_list, new_list=None, result=[]):\n",
    "    if new_list == None:\n",
    "        new_list = []\n",
    "        \n",
    "    if not my_list:\n",
    "        return new_list\n",
    "    \n",
    "    for number in my_list:\n",
    "        if number == my_list[1]:\n",
    "            new_list.append(number)\n",
    "            break\n",
    "            \n",
    "    for number in my_list:\n",
    "        if number != my_list[0]:\n",
    "            result.append(number)\n",
    "            \n",
    "    return lonely(result, new_list, [])\n",
    "\n",
    "print(lonely([1, 1, 3, 3, 0, 1, 1, 3, 0, 3]))\n",
    "print(lonely([4, 4, 3, 3, 4]))"
   ]
  },
  {
   "cell_type": "code",
   "execution_count": null,
   "metadata": {},
   "outputs": [],
   "source": [
    "#쌤 답안\n",
    "def lonely_teacher(numbers):\n",
    "    result = []\n",
    "    for number in numbers:\n",
    "        if number not in result:\n",
    "            result.append(number)\n",
    "    return result\n",
    "\n",
    "print(lonely_teacher([1, 1, 3, 3, 0, 1, 1, 3, 0, 3]))\n",
    "print(lonely_teacher([4, 4, 3, 3, 4]))"
   ]
  },
  {
   "cell_type": "markdown",
   "metadata": {},
   "source": [
    "### 5. * RGB 삼각형\n",
    "\n",
    "| BG   | RG   | BR   | RR   | GG   | BB   |\n",
    "| ---- | ---- | ---- | ---- | ---- | ---- |\n",
    "| R    | B    | G    | R    | G    | B    |\n",
    "\n",
    ">입력으로 `'R', 'G', 'B'`가 섞여있는 문자열이 들어온다. 문자열은 다음과 같이 합쳐진다. 해당 문자열을 처리하여 마지막 색깔만 `return`하는 `triangle()`을 작성하세요.\n",
    "```\n",
    "R R G B R G B B\n",
    " R B R G B R B\n",
    "  G G B R G G\n",
    "   G R G B G\n",
    "    B B R R\n",
    "     B G R\n",
    "      R B\n",
    "       G\n",
    "```\n",
    "\n",
    "예시)\n",
    "```python\n",
    "triangle('RRGBRGBB')#G\n",
    "triangle('GB')#R\n",
    "triangle('B')#B\n",
    "triangle('RGBG')#B\n",
    "```"
   ]
  },
  {
   "cell_type": "code",
   "execution_count": null,
   "metadata": {},
   "outputs": [],
   "source": [
    "def triangle(rgb):\n",
    "    rgb_dict = {\n",
    "        'BG': 'R',\n",
    "        'RG': 'B',\n",
    "        'BR': 'G',\n",
    "        'GB': 'R',\n",
    "        'GR': 'B',\n",
    "        'RB': 'G',\n",
    "        'RR': 'R',\n",
    "        'GG': 'G',\n",
    "        'BB': 'B'\n",
    "    }\n",
    "    \n",
    "    if len(rgb) == 1:\n",
    "        return rgb\n",
    "    \n",
    "    return triangle(rgb_dict[rgb[0:2]]+rgb[2:])\n",
    "\n",
    "print(triangle('RRGBRGBB'))\n",
    "    "
   ]
  },
  {
   "cell_type": "markdown",
   "metadata": {},
   "source": [
    "### 6.(??)홀수개를 찾아라\n",
    "> 입력으로 list가 한개 들어옵니다. 이 list에는 1개의 숫자만 홀수개 들어있습니다. 이 1개의 홀수개인 숫자를 `return`하는 `find_odd()`를 작성하세요.\n",
    "\n",
    "```python\n",
    "find_odd([1, 1, 2, 2, 3, 3, 3]) # 3\n",
    "find_odd([2, 1, 2]) # 1\n",
    "find_odd([1, 2, 2, 3, 2, 2, 1]) # 3\n",
    "```"
   ]
  },
  {
   "cell_type": "code",
   "execution_count": null,
   "metadata": {},
   "outputs": [],
   "source": [
    "def find_odd(my_list):\n",
    "    for i in list(set(my_list)):\n",
    "        my_list.count(i)\n",
    "        if my_list.count(i) % 2:\n",
    "            return i\n",
    "print(find_odd([1, 1, 2, 2, 3, 3, 3]))\n",
    "print(find_odd([2, 1, 2]))\n",
    "print(find_odd([1, 2, 2, 3, 2, 2, 1]))\n",
    "print(find_odd([1, 2, 1]))"
   ]
  },
  {
   "cell_type": "code",
   "execution_count": null,
   "metadata": {},
   "outputs": [],
   "source": [
    "from operator import xor\n",
    "from functools import reduce\n",
    "\n",
    "def find_odd_2(numbers):\n",
    "    return reduce(xor, numbers)\n",
    "\n",
    "print(find_odd_2([1, 1, 2, 2, 3, 3, 3]))\n"
   ]
  },
  {
   "cell_type": "markdown",
   "metadata": {},
   "source": [
    "### **190109**"
   ]
  },
  {
   "cell_type": "markdown",
   "metadata": {},
   "source": [
    "### 1. UP & DOWN\n",
    "> 우리가 `range(1, 101)` 중 하나를 생각한다. 컴퓨터가 절반에 위치한 숫자를 물어보고, 생각한 수보다 크면 1, 작으면 -1, 맞으면 0을 입력한다. 이때 몇번만에 컴퓨터가 맞췄는지 출력하고 프로그램을 끝낸다.\n",
    "\n",
    "예시)\n",
    "```sh\n",
    "숫자를 생각하세요...\n",
    "50\n",
    "> -1\n",
    "25\n",
    "> -1\n",
    "13\n",
    "> -1\n",
    "7\n",
    "> 1\n",
    "10\n",
    "> 1\n",
    "12\n",
    "> 0\n",
    "\n",
    "6번 만에 맞혔습니다.!\n",
    "```\n",
    "\n",
    "```python\n",
    "def guess_up_down(??, ?? ,??):\n",
    "    count = 0\n",
    "    print('숫자를 생각하세요...')\n",
    "    n = 100 // 2\n",
    "    print(n)\n",
    "    count += 1\n",
    "    user_feedback = input('작으면 -1, 맞으면 0, 크면 1: ')\n",
    "    ...\n",
    "    print(f'{count} 번 만에 맞춤!')\n",
    "    \n",
    "    \n",
    "guess_up_down()\n",
    "```"
   ]
  },
  {
   "cell_type": "code",
   "execution_count": null,
   "metadata": {},
   "outputs": [],
   "source": []
  },
  {
   "cell_type": "code",
   "execution_count": null,
   "metadata": {},
   "outputs": [],
   "source": [
    "def guess_up_down(maximum, count=1, minimum=0):\n",
    "    print(maximum // 2)\n",
    "    user_feedback = int(input('작으면 -1, 맞으면 0, 크면 1: '))\n",
    "    if user_feedback == 0:\n",
    "        return count\n",
    "\n",
    "    if user_feedback == -1:\n",
    "        if minimum == 0:\n",
    "            maximum_new = maximum // 2\n",
    "        else:\n",
    "            if maximum > minimum:\n",
    "                maximum_new = (maximum // 2) + minimum\n",
    "            else:\n",
    "                maximum_new = (minimum+2) * 2\n",
    "    \n",
    "    if user_feedback == 1:\n",
    "        if minimum != 0:\n",
    "            maximum_new = \n",
    "        \n",
    "            \n",
    "    return guess_up_down(maximum_new, count+1, (maximum // 2))\n",
    "    \n",
    "guess_up_down(100)"
   ]
  },
  {
   "cell_type": "code",
   "execution_count": null,
   "metadata": {},
   "outputs": [],
   "source": [
    "#쌤 답안\n",
    "def guess_up_down(max_n):\n",
    "    count = 0 \n",
    "    max_n, min_n = max_n + 1, 0\n",
    "    print('숫자를 생각하세요..!')\n",
    "    \n",
    "    while 1:\n",
    "        guess = (max_n + min_n) // 2\n",
    "        print(guess)\n",
    "        count += 1\n",
    "        feedback = int(input('작으면 -1, 크면 1, 맞으면 0: '))\n",
    "        \n",
    "        if feedback == -1:\n",
    "            max_n = guess\n",
    "        elif feedback == 1:\n",
    "            min_n = guess\n",
    "        else:\n",
    "            return count\n",
    "        \n",
    "guess_up_down(2)"
   ]
  },
  {
   "cell_type": "markdown",
   "metadata": {},
   "source": [
    "## **190110**"
   ]
  },
  {
   "cell_type": "markdown",
   "metadata": {},
   "source": [
    "### Hangman\n",
    "> 필요한 함수들!"
   ]
  },
  {
   "cell_type": "code",
   "execution_count": null,
   "metadata": {},
   "outputs": [],
   "source": [
    "def is_answer(answer, letters):\n",
    "    answer = set(answer)\n",
    "    count = 0\n",
    "    for char in set(letters):\n",
    "        if char in answer:\n",
    "            count += 1\n",
    "    return len(answer) == count\n",
    "    \n",
    "\n",
    "is_answer('apple', ['a', 'p', 'l']) # False"
   ]
  },
  {
   "cell_type": "code",
   "execution_count": null,
   "metadata": {},
   "outputs": [],
   "source": [
    "def status(answer, letters):\n",
    "    for char in answer:\n",
    "        if char not in letters:\n",
    "            answer = answer.replace(char, ' _')\n",
    "            \n",
    "    return answer\n",
    "\n",
    "status('apple', ['a', 'l'])"
   ]
  },
  {
   "cell_type": "markdown",
   "metadata": {},
   "source": [
    "### Hangman 로직 만들기\n",
    "> 위의 코드를 활용하여 `hangman(answer)`를 만들자!\n",
    "> 사용자가 답을 맞추거나, 시도가 8번을 넘어가면 종료!"
   ]
  },
  {
   "cell_type": "code",
   "execution_count": 6,
   "metadata": {},
   "outputs": [
    {
     "name": "stdout",
     "output_type": "stream",
     "text": [
      "알파벳을 입력하세요: e\n",
      " _ _ _ _ _ _\n",
      "\n",
      "당신의 목숨:  ♥♥♥♥♥♥♥\n",
      "\n",
      "알파벳을 입력하세요: e\n",
      " _ _ _ _ _ _\n",
      "\n",
      "당신의 목숨:  ♥♥♥♥♥♥\n",
      "\n",
      "알파벳을 입력하세요: e\n",
      " _ _ _ _ _ _\n",
      "\n",
      "당신의 목숨:  ♥♥♥♥♥\n",
      "\n",
      "알파벳을 입력하세요: e\n",
      " _ _ _ _ _ _\n",
      "\n",
      "당신의 목숨:  ♥♥♥♥\n",
      "\n",
      "알파벳을 입력하세요: e\n",
      " _ _ _ _ _ _\n",
      "\n",
      "당신의 목숨:  ♥♥♥\n",
      "\n",
      "알파벳을 입력하세요: e\n",
      " _ _ _ _ _ _\n",
      "\n",
      "당신의 목숨:  ♥♥\n",
      "\n",
      "알파벳을 입력하세요: e\n",
      " _ _ _ _ _ _\n",
      "\n",
      "당신의 목숨:  ♥\n",
      "\n",
      "알파벳을 입력하세요: e\n",
      "당신은 죽었습니다.\n"
     ]
    }
   ],
   "source": [
    "def hangman(answer):\n",
    "    count = 8\n",
    "    correct = 0\n",
    "    letters = []\n",
    "    set_answer = set(answer)\n",
    "    \n",
    "    while len(list(set_answer)) != correct and count != 0:\n",
    "        if count == 0:\n",
    "            break\n",
    "            \n",
    "        user_input_letter = input('알파벳을 입력하세요: ').lower()\n",
    "        count -= 1\n",
    "        \n",
    "        if user_input_letter in set_answer:\n",
    "            if user_input_letter not in letters:\n",
    "                letters.append(user_input_letter)\n",
    "                correct += 1\n",
    "            else:\n",
    "                letters.append(user_input_letter)\n",
    "                correct += 0\n",
    "\n",
    "        if len(answer) != correct and count > 0:\n",
    "            print(status(answer, letters))\n",
    "            print()\n",
    "            print(f'당신의 목숨: ', '♥' * count)\n",
    "            print()\n",
    "\n",
    "            \n",
    "    if count > 0:\n",
    "        return print('축하합니다!')\n",
    "    else:\n",
    "        return print('당신은 죽었습니다.')\n",
    "\n",
    "def status(answer, letters):\n",
    "    for char in answer:\n",
    "        if char not in letters:\n",
    "            answer = answer.replace(char, ' _')\n",
    "            \n",
    "    return answer\n",
    "  \n",
    "    \n",
    "    \n",
    "    \n",
    "    \n",
    "    \n",
    "hangman('banana')"
   ]
  },
  {
   "cell_type": "code",
   "execution_count": null,
   "metadata": {},
   "outputs": [],
   "source": [
    "# #쌤 답안\n",
    "# def hangman(answer):\n",
    "#     input_letters = []\n",
    "#     attempt = 8\n",
    "#     print('===START===')\n",
    "#     while 1:\n",
    "#         print(\"남은 목숨:\" + '♥' * attempt)\n",
    "#         print(status(answer, input_letter))\n",
    "        \n",
    "#         guess = input('알파벳을 입력하세요: ').lower()\n",
    "#         input_letters.append(guess)\n",
    "        \n",
    "#         if is_answer(answer, input_letters):\n",
    "#             return '성공!'\n",
    "#         else:\n",
    "#             attempt -= 1\n",
    "        \n",
    "#         if not attempt:\n",
    "#             return '실패'"
   ]
  }
 ],
 "metadata": {
  "kernelspec": {
   "display_name": "Python 3",
   "language": "python",
   "name": "python3"
  },
  "language_info": {
   "codemirror_mode": {
    "name": "ipython",
    "version": 3
   },
   "file_extension": ".py",
   "mimetype": "text/x-python",
   "name": "python",
   "nbconvert_exporter": "python",
   "pygments_lexer": "ipython3",
   "version": "3.6.7"
  }
 },
 "nbformat": 4,
 "nbformat_minor": 2
}
