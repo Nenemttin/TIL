{
 "cells": [
  {
   "cell_type": "code",
   "execution_count": 10,
   "metadata": {},
   "outputs": [
    {
     "name": "stdout",
     "output_type": "stream",
     "text": [
      "최대공약수는 : 14, 최소공배수는 : 42.0 입니다.\n"
     ]
    }
   ],
   "source": [
    "num1 = 42\n",
    "num2 = 14\n",
    "\n",
    "multiple_two = num1 * num2\n",
    "\n",
    "if num1 < num2:\n",
    "    temp = num1\n",
    "    num1 = num2\n",
    "    num2 = temp2\n",
    "\n",
    "#최대 공약수\n",
    "def gcd(a, b):\n",
    "    temp_num1 = a\n",
    "    temp_num2 = b\n",
    "    while temp_num2 != 0: #0이 될 때까지 돌려라.\n",
    "        rem = temp_num1 % temp_num2\n",
    "        temp_num1 = temp_num2\n",
    "        temp_num2 = rem\n",
    "    return temp_num1\n",
    "\n",
    "current_gcd = gcd(num1, num2)\n",
    "\n",
    "#최소 공배수\n",
    "lcm = multiple_two / current_gcd\n",
    "\n",
    "print(\"최대공약수는 : {}, 최소공배수는 : {} 입니다.\".format(current_gcd, lcm))"
   ]
  }
 ],
 "metadata": {
  "kernelspec": {
   "display_name": "Python 3",
   "language": "python",
   "name": "python3"
  },
  "language_info": {
   "codemirror_mode": {
    "name": "ipython",
    "version": 3
   },
   "file_extension": ".py",
   "mimetype": "text/x-python",
   "name": "python",
   "nbconvert_exporter": "python",
   "pygments_lexer": "ipython3",
   "version": "3.6.7"
  }
 },
 "nbformat": 4,
 "nbformat_minor": 2
}
