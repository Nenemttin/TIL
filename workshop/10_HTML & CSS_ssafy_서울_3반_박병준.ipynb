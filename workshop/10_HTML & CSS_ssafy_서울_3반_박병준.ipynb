{
 "cells": [
  {
   "cell_type": "markdown",
   "metadata": {},
   "source": [
    "```html\n",
    "<style>\n",
    "    #ssafy > p:nth-child(2) {\n",
    "        color: red;\n",
    "    }\n",
    "</style>\n",
    "<div id=\"ssafy\">\n",
    "    <h2>어떤게 선택될까?</h2>\n",
    "    <p>첫번째 단락</p>\n",
    "    <p>두번째 단락</p>\n",
    "    <p>세번째 단락</p>\n",
    "    <p>네번째 단락</p>\n",
    "</div>\n",
    "\n",
    "<style>\n",
    "        #ssafy > p:nth-of-type(2) {\n",
    "            color: blue;\n",
    "        }\n",
    "</style>\n",
    "<div id=\"ssafy\">\n",
    "    <h2>어떤게 선택될까?</h2>\n",
    "    <p>첫번째 단락</p>\n",
    "    <p>두번째 단락</p>\n",
    "    <p>세번째 단락</p>\n",
    "    <p>네번째 단락</p>\n",
    "</div>\n",
    "```\n",
    "\n",
    "* nth-child(2) : 부모 element의 모든 자식 element 중 2번째\n",
    "* nth-of-type(2) : 부모 element의 특정 자식 element 중 2번째"
   ]
  }
 ],
 "metadata": {
  "kernelspec": {
   "display_name": "Python 3",
   "language": "python",
   "name": "python3"
  },
  "language_info": {
   "codemirror_mode": {
    "name": "ipython",
    "version": 3
   },
   "file_extension": ".py",
   "mimetype": "text/x-python",
   "name": "python",
   "nbconvert_exporter": "python",
   "pygments_lexer": "ipython3",
   "version": "3.6.7"
  }
 },
 "nbformat": 4,
 "nbformat_minor": 2
}
