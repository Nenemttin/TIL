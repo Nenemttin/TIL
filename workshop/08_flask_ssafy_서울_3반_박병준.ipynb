{
 "cells": [
  {
   "cell_type": "code",
   "execution_count": null,
   "metadata": {},
   "outputs": [],
   "source": [
    "import random\n",
    "from flask import Flask # flask 패키지에서 Flask class를 호출\n",
    "\n",
    "app = Flask(__name__)\n",
    "\n",
    "@app.route('/')\n",
    "def index():\n",
    "    return 'Hi'\n",
    "\n",
    "@app.route('/dictionary/<string:word>')\n",
    "def dictionary(word):\n",
    "    my_dict = {\n",
    "        'apple': '사과',\n",
    "        'banana': '바나나',\n",
    "        'melon': '멜론'\n",
    "    }\n",
    "    if word in my_dict:\n",
    "        return f'{word}은(는) {my_dict[word]}!'\n",
    "    else:\n",
    "        return f'{word}은(는) 나만의 단어장에는 없는 단어입니다.'\n",
    "\n",
    "\n",
    "if __name__ == '__main__':\n",
    "    app.run(debug=True)"
   ]
  }
 ],
 "metadata": {
  "kernelspec": {
   "display_name": "Python 3",
   "language": "python",
   "name": "python3"
  },
  "language_info": {
   "codemirror_mode": {
    "name": "ipython",
    "version": 3
   },
   "file_extension": ".py",
   "mimetype": "text/x-python",
   "name": "python",
   "nbconvert_exporter": "python",
   "pygments_lexer": "ipython3",
   "version": "3.6.7"
  }
 },
 "nbformat": 4,
 "nbformat_minor": 2
}
