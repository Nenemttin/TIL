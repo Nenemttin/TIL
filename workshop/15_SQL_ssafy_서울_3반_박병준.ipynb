{
 "cells": [
  {
   "cell_type": "markdown",
   "metadata": {},
   "source": [
    "### 아래 표와 같은 스키마를 가진 DB 테이블을 생성하고, 아래와 같이 Data를 입력해 봅시다.\n",
    "### bands 테이블에서 모든 데이터 레코드의 id 와 name 만 조회하는 Query 를 작성하라.\n",
    "### bands 테이블에서 debut 가 2000 보다 작은 밴드들의 이름만을 조회하는 Query 를 작성하라."
   ]
  },
  {
   "cell_type": "markdown",
   "metadata": {},
   "source": [
    "```sql\n",
    "CREATE TABLE bands (\n",
    "    id INTEGER PRIMARY KEY,\n",
    "    name TEXT,\n",
    "    debut INTEGER\n",
    ");\n",
    "\n",
    "INSERT INTO bands (id, name, debut)\n",
    "VALUES\n",
    "('Queen', 1973),\n",
    "('Coldplay', 1998),\n",
    "('MCR', 2001);\n",
    "\n",
    "SELECT id, name\n",
    "FROM bands\n",
    "WHERE debut < 2000;\n",
    "```"
   ]
  }
 ],
 "metadata": {
  "kernelspec": {
   "display_name": "Python 3",
   "language": "python",
   "name": "python3"
  },
  "language_info": {
   "codemirror_mode": {
    "name": "ipython",
    "version": 3
   },
   "file_extension": ".py",
   "mimetype": "text/x-python",
   "name": "python",
   "nbconvert_exporter": "python",
   "pygments_lexer": "ipython3",
   "version": "3.6.7"
  }
 },
 "nbformat": 4,
 "nbformat_minor": 2
}
